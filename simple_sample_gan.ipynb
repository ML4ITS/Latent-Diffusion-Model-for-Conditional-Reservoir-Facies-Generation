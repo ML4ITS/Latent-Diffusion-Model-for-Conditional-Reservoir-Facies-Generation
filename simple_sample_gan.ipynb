{
 "cells": [
  {
   "cell_type": "code",
   "execution_count": 7,
   "metadata": {},
   "outputs": [],
   "source": [
    "import matplotlib.pyplot as plt\n",
    "\n",
    "from methods.unet_gan.sampler import GANSampler"
   ]
  },
  {
   "cell_type": "code",
   "execution_count": 8,
   "metadata": {},
   "outputs": [],
   "source": [
    "# load the sampler\n",
    "sampler = GANSampler()"
   ]
  },
  {
   "cell_type": "markdown",
   "metadata": {},
   "source": [
    "### Unconditional sampling"
   ]
  },
  {
   "cell_type": "code",
   "execution_count": 9,
   "metadata": {},
   "outputs": [],
   "source": [
    "# uncnoditional sampling\n",
    "x_gen = sampler.unconditional_sampling(n_samples=4)  # (b h w)"
   ]
  },
  {
   "cell_type": "code",
   "execution_count": 10,
   "metadata": {},
   "outputs": [],
   "source": [
    "# postprocess\n",
    "x_gen = x_gen.cpu()"
   ]
  },
  {
   "cell_type": "code",
   "execution_count": 11,
   "metadata": {},
   "outputs": [
    {
     "data": {
      "image/png": "[encoded data removed]",
      "text/plain": [
       "<Figure size 864x216 with 4 Axes>"
      ]
     },
     "metadata": {
      "needs_background": "light"
     },
     "output_type": "display_data"
    }
   ],
   "source": [
    "# plot\n",
    "fig, axes = plt.subplots(1, 4, figsize=(12, 3))\n",
    "n_channels = sampler.config['n_categories']\n",
    "fig.suptitle('Samples from unconditional sampling')\n",
    "for i in range(4):\n",
    "    axes[i].imshow(x_gen[i], vmin=0, vmax=n_channels, cmap='Accent', interpolation='nearest'),\n",
    "    axes[i].invert_yaxis()\n",
    "plt.show()"
   ]
  },
  {
   "cell_type": "markdown",
   "metadata": {},
   "source": [
    "### Conditional sampling"
   ]
  },
  {
   "cell_type": "code",
   "execution_count": 17,
   "metadata": {},
   "outputs": [],
   "source": [
    "import numpy as np\n",
    "from torch.utils.data import DataLoader\n",
    "from methods.utils import get_root_dir, load_yaml_param_settings\n",
    "from preprocessing.preprocess import DatasetImporter, GeoDataset"
   ]
  },
  {
   "cell_type": "code",
   "execution_count": 29,
   "metadata": {},
   "outputs": [
    {
     "name": "stdout",
     "output_type": "stream",
     "text": [
      "self.X_train.shape: (4000, 4, 128, 128)\n",
      "self.X_test.shape: (1000, 4, 128, 128)\n"
     ]
    }
   ],
   "source": [
    "# get a pair of `x` and `x_cond`, from the test dataset\n",
    "\n",
    "# config\n",
    "config_fname = get_root_dir().joinpath('configs', 'unet_gan.yaml')\n",
    "config = load_yaml_param_settings(config_fname)\n",
    "\n",
    "# dataloader\n",
    "fname = get_root_dir().joinpath('dataset', 'facies_5000.npy')\n",
    "dataset_importer = DatasetImporter(fname,\n",
    "                                   train_ratio=config['train_ratio'],\n",
    "                                   data_scaling=True,\n",
    "                                   n_categories=4)\n",
    "test_dataloader = DataLoader(GeoDataset(\"test\", dataset_importer), batch_size=config['batch_size'], num_workers=0, shuffle=True)\n",
    "\n",
    "# get the pair\n",
    "i = np.random.choice(len(test_dataloader.dataset))\n",
    "x, x_cond = test_dataloader.dataset[i]  # (c h w), (c+1 h w)\n",
    "\n",
    "x, x_cond = x.unsqueeze(0), x_cond.unsqueeze(0)  # (1 c h w), (1 c+1 h w)\n",
    "x, x_cond = x.to(sampler.device), x_cond.to(sampler.device)\n"
   ]
  },
  {
   "cell_type": "code",
   "execution_count": 30,
   "metadata": {},
   "outputs": [],
   "source": [
    "# conditinoal sampling\n",
    "x_gen = sampler.conditional_sampling(x_cond)  # (1 h w)"
   ]
  },
  {
   "cell_type": "code",
   "execution_count": 31,
   "metadata": {},
   "outputs": [],
   "source": [
    "# postprocess\n",
    "x, x_cond = x.argmax(dim=1), x_cond.argmax(dim=1)\n",
    "x, x_cond, x_gen = x.cpu(), x_cond.cpu(), x_gen.cpu()"
   ]
  },
  {
   "cell_type": "code",
   "execution_count": 33,
   "metadata": {},
   "outputs": [
    {
     "data": {
      "image/png": "[encoded data removed]",
      "text/plain": [
       "<Figure size 864x216 with 3 Axes>"
      ]
     },
     "metadata": {
      "needs_background": "light"
     },
     "output_type": "display_data"
    }
   ],
   "source": [
    "# plot x, x_cond ,x_gen\n",
    "fig, axes = plt.subplots(1, 3, figsize=(4*3, 3))\n",
    "\n",
    "axes[0].set_title('x \\n (ground trhuth)')\n",
    "axes[0].imshow(x[0], vmin=0, vmax=n_channels, cmap='Accent', interpolation='nearest')\n",
    "\n",
    "axes[1].set_title('x_cond \\n (conditional data)')\n",
    "axes[1].imshow(x_cond[0], vmin=0, vmax=n_channels, cmap='Accent', interpolation='nearest')\n",
    "\n",
    "axes[2].set_title('x_gen \\n (conditionally generated data)')\n",
    "axes[2].imshow(x_gen[0], vmin=0, vmax=n_channels, cmap='Accent', interpolation='nearest')\n",
    "\n",
    "for ax in axes.flatten():\n",
    "    ax.invert_yaxis()\n",
    "# plt.tight_layout()\n",
    "plt.show()"
   ]
  }
 ],
 "metadata": {
  "kernelspec": {
   "display_name": "geo_ldm",
   "language": "python",
   "name": "python3"
  },
  "language_info": {
   "codemirror_mode": {
    "name": "ipython",
    "version": 3
   },
   "file_extension": ".py",
   "mimetype": "text/x-python",
   "name": "python",
   "nbconvert_exporter": "python",
   "pygments_lexer": "ipython3",
   "version": "3.8.17"
  }
 },
 "nbformat": 4,
 "nbformat_minor": 2
}
