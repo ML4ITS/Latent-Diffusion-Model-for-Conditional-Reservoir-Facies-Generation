{
 "cells": [
  {
   "cell_type": "code",
   "execution_count": 30,
   "metadata": {},
   "outputs": [],
   "source": [
    "import numpy as np\n",
    "import matplotlib.pyplot as plt\n",
    "from matplotlib.colors import ListedColormap\n",
    "\n",
    "from methods.ldm.sampler import LDMSampler\n",
    "from methods.utils import get_root_dir"
   ]
  },
  {
   "cell_type": "code",
   "execution_count": 11,
   "metadata": {},
   "outputs": [
    {
     "name": "stdout",
     "output_type": "stream",
     "text": [
      "self.X_train.shape: (4044, 4, 128, 128)\n",
      "self.X_test.shape: (1011, 4, 128, 128)\n",
      "loading from version 1.8.11\n"
     ]
    }
   ],
   "source": [
    "# load the sampler\n",
    "sampler = LDMSampler(stage2_ckpt=get_root_dir().joinpath('methods', 'ldm', 'saved_models', 'stage2-20.ckpt'))"
   ]
  },
  {
   "cell_type": "markdown",
   "metadata": {},
   "source": [
    "### Unconditional sampling"
   ]
  },
  {
   "cell_type": "code",
   "execution_count": 26,
   "metadata": {},
   "outputs": [
    {
     "name": "stderr",
     "output_type": "stream",
     "text": [
      "sampling loop time step: 100%|██████████| 1000/1000 [00:49<00:00, 20.22it/s]\n"
     ]
    }
   ],
   "source": [
    "# unconditional sampling\n",
    "x_gen = sampler.unconditional_sampling(n_samples=4)  # (b c h w)"
   ]
  },
  {
   "cell_type": "code",
   "execution_count": 27,
   "metadata": {},
   "outputs": [],
   "source": [
    "in_channels = x_gen.shape[1]"
   ]
  },
  {
   "cell_type": "code",
   "execution_count": 28,
   "metadata": {},
   "outputs": [],
   "source": [
    "# postprocess\n",
    "x_gen = x_gen.cpu()\n",
    "x_gen = x_gen.argmax(dim=1)  # (b h w)"
   ]
  },
  {
   "cell_type": "code",
   "execution_count": 31,
   "metadata": {},
   "outputs": [
    {
     "data": {
      "image/png": "[encoded data removed]",
      "text/plain": [
       "<Figure size 864x216 with 4 Axes>"
      ]
     },
     "metadata": {
      "needs_background": "light"
     },
     "output_type": "display_data"
    }
   ],
   "source": [
    "# plot\n",
    "cmap = ListedColormap(['C3', 'C2', 'C1', 'C0', '#D3D3D3'])\n",
    "fig, axes = plt.subplots(1, 4, figsize=(12, 3))\n",
    "fig.suptitle('Samples from unconditional sampling')\n",
    "for i in range(4):\n",
    "    axes[i].imshow(x_gen[i], vmin=0, vmax=in_channels, cmap=cmap, interpolation='nearest'),\n",
    "    axes[i].invert_yaxis()\n",
    "plt.show()"
   ]
  },
  {
   "cell_type": "markdown",
   "metadata": {},
   "source": [
    "### Conditional sampling"
   ]
  },
  {
   "cell_type": "code",
   "execution_count": 39,
   "metadata": {},
   "outputs": [],
   "source": [
    "# settings\n",
    "device = next(sampler.trainer.pretrained_encoder.parameters()).device"
   ]
  },
  {
   "cell_type": "code",
   "execution_count": 45,
   "metadata": {},
   "outputs": [
    {
     "name": "stdout",
     "output_type": "stream",
     "text": [
      "x.shape: torch.Size([1, 4, 128, 128])\n",
      "x_cond.shape: torch.Size([1, 5, 128, 128])\n"
     ]
    }
   ],
   "source": [
    "# get a pair of `x` and `x_cond`, from the test dataset\n",
    "i = np.random.choice(len(sampler.trainer.ds.dataset))\n",
    "x, x_cond = sampler.trainer.ds.dataset[i]  # (c h w), (c+1 h w); +1 for masking\n",
    "x, x_cond = x.unsqueeze(0), x_cond.unsqueeze(0)  # (1 c h w), (1 c+1 h w)\n",
    "x, x_cond = x.to(device), x_cond.to(device)  # (1 c h w), (1 c+1 h w)\n",
    "\n",
    "print('x.shape:', x.shape)\n",
    "print('x_cond.shape:', x_cond.shape)"
   ]
  },
  {
   "cell_type": "code",
   "execution_count": 46,
   "metadata": {},
   "outputs": [
    {
     "name": "stderr",
     "output_type": "stream",
     "text": [
      "sampling loop time step: 100%|██████████| 1000/1000 [00:45<00:00, 22.07it/s]\n"
     ]
    }
   ],
   "source": [
    "# conditional sampling\n",
    "x_gen = sampler.conditional_sampling(x_cond)"
   ]
  },
  {
   "cell_type": "code",
   "execution_count": 47,
   "metadata": {},
   "outputs": [],
   "source": [
    "in_channels = x_gen.shape[1]"
   ]
  },
  {
   "cell_type": "code",
   "execution_count": 48,
   "metadata": {},
   "outputs": [],
   "source": [
    "# postprocess\n",
    "x, x_cond = x.cpu().argmax(dim=1), x_cond.cpu().argmax(dim=1)  # (1 h w), (1 h w)\n",
    "x_gen = x_gen.cpu().argmax(dim=1)  # (1 h w)"
   ]
  },
  {
   "cell_type": "code",
   "execution_count": 49,
   "metadata": {},
   "outputs": [
    {
     "data": {
      "image/png": "[encoded data removed]",
      "text/plain": [
       "<Figure size 864x216 with 3 Axes>"
      ]
     },
     "metadata": {
      "needs_background": "light"
     },
     "output_type": "display_data"
    }
   ],
   "source": [
    "# plot x, x_cond ,x_gen\n",
    "fig, axes = plt.subplots(1, 3, figsize=(4*3, 3))\n",
    "cmap = ListedColormap(['C3', 'C2', 'C1', 'C0', '#D3D3D3'])\n",
    "\n",
    "axes[0].set_title('x \\n (GT)')\n",
    "axes[0].imshow(x[0], vmin=0, vmax=in_channels, cmap=cmap, interpolation='nearest')\n",
    "\n",
    "axes[1].set_title('x_cond \\n (conditional data)')\n",
    "axes[1].imshow(x_cond[0], vmin=0, vmax=in_channels, cmap=cmap, interpolation='nearest')\n",
    "\n",
    "axes[2].set_title('x_gen \\n (conditionally generated data)')\n",
    "axes[2].imshow(x_gen[0], vmin=0, vmax=in_channels, cmap=cmap, interpolation='nearest')\n",
    "\n",
    "for ax in axes.flatten():\n",
    "    ax.invert_yaxis()\n",
    "# plt.tight_layout()\n",
    "plt.show()"
   ]
  },
  {
   "cell_type": "markdown",
   "metadata": {},
   "source": [
    "If you want to generate multiple samples  (`x_gen`) for `x_cond`, you can expand `x_cond` as shown below and conduct the conditional sampling.\n",
    "\n",
    "```\n",
    "x_cond = einops.repeat(x_cond, '1 c h w -> b c h w', b=n_samples)\n",
    "```"
   ]
  },
  {
   "cell_type": "code",
   "execution_count": null,
   "metadata": {},
   "outputs": [],
   "source": []
  },
  {
   "cell_type": "code",
   "execution_count": null,
   "metadata": {},
   "outputs": [],
   "source": []
  }
 ],
 "metadata": {
  "kernelspec": {
   "display_name": "geo_ldm",
   "language": "python",
   "name": "python3"
  },
  "language_info": {
   "codemirror_mode": {
    "name": "ipython",
    "version": 3
   },
   "file_extension": ".py",
   "mimetype": "text/x-python",
   "name": "python",
   "nbconvert_exporter": "python",
   "pygments_lexer": "ipython3",
   "version": "3.8.17"
  }
 },
 "nbformat": 4,
 "nbformat_minor": 2
}
