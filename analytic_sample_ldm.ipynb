{
 "cells": [
  {
   "cell_type": "code",
   "execution_count": 8,
   "metadata": {},
   "outputs": [],
   "source": [
    "import random\n",
    "import pickle\n",
    "\n",
    "import torch\n",
    "import numpy as np\n",
    "import matplotlib.pyplot as plt\n",
    "from matplotlib.colors import ListedColormap\n",
    "from einops import rearrange, repeat\n",
    "import pandas as pd\n",
    "\n",
    "from methods.ldm.sampler import LDMSampler\n",
    "from methods.utils import get_root_dir, load_yaml_param_settings\n",
    "from methods.ldm.denoising_diffusion_pytorch.denoising_diffusion_pytorch import save_image, save_image_unconditional"
   ]
  },
  {
   "cell_type": "code",
   "execution_count": 2,
   "metadata": {},
   "outputs": [
    {
     "name": "stdout",
     "output_type": "stream",
     "text": [
      "self.X_train.shape: (4044, 4, 128, 128)\n",
      "self.X_test.shape: (1011, 4, 128, 128)\n",
      "loading from version 1.8.11\n"
     ]
    }
   ],
   "source": [
    "# load the sampler\n",
    "sampler = LDMSampler(stage2_ckpt=get_root_dir().joinpath('methods', 'ldm', 'saved_models', 'stage2-20.ckpt'))\n",
    "trainer = sampler.trainer"
   ]
  },
  {
   "cell_type": "code",
   "execution_count": 3,
   "metadata": {},
   "outputs": [],
   "source": [
    "# settings\n",
    "config = load_yaml_param_settings(get_root_dir().joinpath('configs', 'ldm.yaml'))\n",
    "cmap = ListedColormap(['C3', 'C2', 'C1', 'C0', '#D3D3D3'])"
   ]
  },
  {
   "cell_type": "markdown",
   "metadata": {},
   "source": [
    "### Conditional sampling with randomly-sampled $X_{cond}$ from the test set."
   ]
  },
  {
   "cell_type": "code",
   "execution_count": 13,
   "metadata": {},
   "outputs": [
    {
     "data": {
      "image/png": "[encoded data removed]",
      "text/plain": [
       "<Figure size 864x216 with 4 Axes>"
      ]
     },
     "metadata": {
      "needs_background": "light"
     },
     "output_type": "display_data"
    }
   ],
   "source": [
    "random.seed(0)\n",
    "np.random.seed(0)\n",
    "# ================\n",
    "\n",
    "num_samples = 9\n",
    "\n",
    "# z_cond\n",
    "X_cond = []\n",
    "for _ in range(num_samples):\n",
    "    i = np.random.choice(len(trainer.ds.dataset))\n",
    "    x, x_cond = trainer.ds.dataset[i]  # (c h w)\n",
    "    X_cond.append(x_cond.numpy())\n",
    "X_cond = torch.from_numpy(np.array(X_cond))  # (b c h w); b == num_samples\n",
    "z_cond = trainer.pretrained_encoder_cond(X_cond.to(trainer.accelerator.device))  # (b c h' w')\n",
    "\n",
    "\n",
    "# ================\n",
    "# plot the first 4 of x_cond\n",
    "fig, axes = plt.subplots(1, 4, figsize=(12, 3))\n",
    "for i, ax in enumerate(axes.flatten()):\n",
    "    ax.imshow(torch.argmax(X_cond, dim=1)[i], interpolation='nearest', cmap=cmap, aspect='auto')\n",
    "    ax.invert_yaxis()\n",
    "plt.tight_layout()\n",
    "plt.show()"
   ]
  },
  {
   "cell_type": "code",
   "execution_count": 14,
   "metadata": {},
   "outputs": [
    {
     "name": "stderr",
     "output_type": "stream",
     "text": [
      "sampling loop time step: 100%|██████████| 1000/1000 [01:24<00:00, 11.78it/s]"
     ]
    },
    {
     "name": "stdout",
     "output_type": "stream",
     "text": [
      "z_gen.shape: torch.Size([9, 4, 64, 64])\n"
     ]
    },
    {
     "name": "stderr",
     "output_type": "stream",
     "text": [
      "\n"
     ]
    }
   ],
   "source": [
    "# sample z\n",
    "z_gen = trainer.ema.ema_model.sample(z_cond, batch_size=num_samples)\n",
    "print('z_gen.shape:', z_gen.shape)"
   ]
  },
  {
   "cell_type": "code",
   "execution_count": 15,
   "metadata": {},
   "outputs": [
    {
     "data": {
      "image/png": "[encoded data removed]",
      "text/plain": [
       "<Figure size 288x144 with 1 Axes>"
      ]
     },
     "metadata": {
      "needs_background": "light"
     },
     "output_type": "display_data"
    }
   ],
   "source": [
    "# z histogram\n",
    "plt.figure(figsize=(4, 2))\n",
    "plt.hist(z_gen.cpu().detach().numpy().flatten(), bins=100, log=True)\n",
    "plt.show()"
   ]
  },
  {
   "cell_type": "code",
   "execution_count": 17,
   "metadata": {},
   "outputs": [
    {
     "name": "stdout",
     "output_type": "stream",
     "text": [
      "x_gen.shape: torch.Size([9, 1, 128, 128])\n"
     ]
    }
   ],
   "source": [
    "# apply decoder\n",
    "x_gen = trainer.pretrained_decoder(z_gen)  # (b c h w)\n",
    "x_gen = x_gen.cpu().detach()\n",
    "x_gen = x_gen.argmax(dim=1)[:,None,:,:].float()\n",
    "print('x_gen.shape:', x_gen.shape)"
   ]
  },
  {
   "cell_type": "code",
   "execution_count": 23,
   "metadata": {},
   "outputs": [],
   "source": [
    "# plot\n",
    "fname = get_root_dir().joinpath('methods', 'ldm', 'results', '.sample_jupyter_conditional.png')\n",
    "save_image(X_cond, x_gen, fname, config['dataset']['in_channels'], 0, False)"
   ]
  },
  {
   "cell_type": "markdown",
   "metadata": {},
   "source": [
    "### Reconstructability of $D$"
   ]
  },
  {
   "cell_type": "code",
   "execution_count": 30,
   "metadata": {},
   "outputs": [
    {
     "data": {
      "image/png": "[encoded data removed]",
      "text/plain": [
       "<Figure size 720x288 with 3 Axes>"
      ]
     },
     "metadata": {
      "needs_background": "light"
     },
     "output_type": "display_data"
    }
   ],
   "source": [
    "# take a sample x\n",
    "num_samples = 1\n",
    "for _ in range(num_samples):\n",
    "    i = np.random.choice(len(trainer.ds.dataset))\n",
    "    x, x_cond = trainer.ds.dataset[i]  # (c h w)\n",
    "\n",
    "# forward\n",
    "device = trainer.accelerator.device\n",
    "z = trainer.pretrained_encoder(x[None, :, :, :].to(device))  # (b c h' w')\n",
    "xhat = trainer.pretrained_decoder(z)[0].cpu()  # (b c h w)\n",
    "\n",
    "# plot\n",
    "fig, axes = plt.subplots(1, 3, figsize=(10, 4))\n",
    "# axes[0].imshow(x.argmax(dim=0))\n",
    "axes[0].imshow(x.argmax(dim=0), cmap=cmap, vmin=0, vmax=config['dataset']['in_channels'])\n",
    "axes[0].invert_yaxis()\n",
    "axes[1].imshow(xhat.argmax(dim=0), cmap=cmap, vmin=0, vmax=config['dataset']['in_channels'])\n",
    "axes[1].invert_yaxis()\n",
    "axes[2].imshow(torch.abs(xhat.argmax(dim=0) - x.argmax(dim=0)), vmin=0, vmax=1, cmap='binary')\n",
    "axes[2].invert_yaxis()\n",
    "plt.show()"
   ]
  },
  {
   "cell_type": "code",
   "execution_count": 35,
   "metadata": {},
   "outputs": [
    {
     "name": "stdout",
     "output_type": "stream",
     "text": [
      "error rate: tensor(3.5286e-05)\n",
      "CE error_rate: 0.0002533556253183633\n"
     ]
    }
   ],
   "source": [
    "# create X\n",
    "xs = []\n",
    "num_samples = 64\n",
    "for _ in range(num_samples):\n",
    "    i = np.random.choice(len(trainer.ds))\n",
    "    x, x_cond = trainer.ds.dataset[i]  # (c h w)\n",
    "    xs.append(x.numpy())\n",
    "xs = torch.from_numpy(np.array(xs))\n",
    "\n",
    "# forward\n",
    "device = trainer.accelerator.device\n",
    "z = trainer.pretrained_encoder(xs.to(device))  # (b c h' w')\n",
    "xhat = trainer.pretrained_decoder(z).cpu()  # (b c h w)\n",
    "\n",
    "# compute the error rate\n",
    "error_rate = torch.torch.abs(xhat.argmax(dim=1) - xs.argmax(dim=1))\n",
    "print('error rate:', error_rate.float().mean())\n",
    "\n",
    "error_rate = torch.nn.functional.cross_entropy(rearrange(xhat, 'b c h w -> (b h w) c'), rearrange(xs, 'b c h w -> (b h w) c').argmax(dim=-1))\n",
    "print('CE error_rate:', error_rate.item())\n",
    "\n",
    "\"\"\"\n",
    "(a)\n",
    "- error rate: tensor(0.0006)\n",
    "- CE error_rate: 0.004543143790215254\n",
    "\n",
    "(c)\n",
    "- error rate: tensor(0.0005)\n",
    "- CE error_rate: 0.0023470637388527393\n",
    "\"\"\";"
   ]
  },
  {
   "cell_type": "markdown",
   "metadata": {},
   "source": [
    "### Unconditional sampling"
   ]
  },
  {
   "cell_type": "code",
   "execution_count": 4,
   "metadata": {},
   "outputs": [],
   "source": [
    "# settings\n",
    "num_samples = 9"
   ]
  },
  {
   "cell_type": "code",
   "execution_count": 5,
   "metadata": {},
   "outputs": [
    {
     "name": "stderr",
     "output_type": "stream",
     "text": [
      "sampling loop time step: 100%|██████████| 1000/1000 [01:25<00:00, 11.66it/s]"
     ]
    },
    {
     "name": "stdout",
     "output_type": "stream",
     "text": [
      "z_gen.shape: torch.Size([9, 4, 64, 64])\n"
     ]
    },
    {
     "name": "stderr",
     "output_type": "stream",
     "text": [
      "\n"
     ]
    }
   ],
   "source": [
    "# sample z\n",
    "trainer.ema.ema_model.eval()\n",
    "z_gen = trainer.ema.ema_model.sample(z_cond=None, batch_size=num_samples)\n",
    "print('z_gen.shape:', z_gen.shape)"
   ]
  },
  {
   "cell_type": "code",
   "execution_count": 6,
   "metadata": {},
   "outputs": [
    {
     "name": "stdout",
     "output_type": "stream",
     "text": [
      "x_gen.shape: torch.Size([9, 1, 128, 128])\n"
     ]
    }
   ],
   "source": [
    "# apply decoder\n",
    "x_gen = trainer.pretrained_decoder(z_gen)  # (b c h w)\n",
    "x_gen = x_gen.cpu().detach()\n",
    "x_gen = x_gen.argmax(dim=1)[:,None,:,:].float()\n",
    "print('x_gen.shape:', x_gen.shape)"
   ]
  },
  {
   "cell_type": "code",
   "execution_count": 7,
   "metadata": {},
   "outputs": [],
   "source": [
    "# plot\n",
    "fname = get_root_dir().joinpath('methods', 'ldm', 'results', '.sample_jupyter_unconditional.png')\n",
    "save_image_unconditional(x_gen, fname, config['dataset']['in_channels'])"
   ]
  },
  {
   "cell_type": "markdown",
   "metadata": {},
   "source": [
    "### Transitional Visualization: $x_T$ to $x_0$"
   ]
  },
  {
   "cell_type": "code",
   "execution_count": 43,
   "metadata": {},
   "outputs": [],
   "source": [
    "# settings\n",
    "num_samples = 9"
   ]
  },
  {
   "cell_type": "code",
   "execution_count": 44,
   "metadata": {},
   "outputs": [],
   "source": [
    "# z_cond\n",
    "X_cond = []\n",
    "for _ in range(num_samples):\n",
    "    i = np.random.choice(len(trainer.ds))\n",
    "    x, x_cond = trainer.ds.dataset[i]  # (c h w)\n",
    "    X_cond.append(x_cond.numpy())\n",
    "X_cond = torch.from_numpy(np.array(X_cond))  # (b c h w); b == num_samples\n",
    "z_cond = trainer.pretrained_encoder_cond(X_cond.to(trainer.accelerator.device))  # (b c h' w')"
   ]
  },
  {
   "cell_type": "code",
   "execution_count": 45,
   "metadata": {},
   "outputs": [
    {
     "name": "stderr",
     "output_type": "stream",
     "text": [
      "sampling loop time step: 100%|██████████| 1000/1000 [01:25<00:00, 11.69it/s]"
     ]
    },
    {
     "name": "stdout",
     "output_type": "stream",
     "text": [
      "z_gen.shape: torch.Size([9, 1001, 4, 64, 64])\n"
     ]
    },
    {
     "name": "stderr",
     "output_type": "stream",
     "text": [
      "\n"
     ]
    }
   ],
   "source": [
    "# sample z\n",
    "trainer.ema.ema_model.eval()\n",
    "z_gen = trainer.ema.ema_model.sample(z_cond=z_cond, batch_size=num_samples, return_all_timesteps=True)\n",
    "print('z_gen.shape:', z_gen.shape)"
   ]
  },
  {
   "cell_type": "code",
   "execution_count": 46,
   "metadata": {},
   "outputs": [
    {
     "name": "stdout",
     "output_type": "stream",
     "text": [
      "visualizing_steps: [   0  250  500  750 1000]\n",
      "x_gen.shape: torch.Size([9, 1, 128, 128])\n",
      "x_gen.shape: torch.Size([9, 1, 128, 128])\n",
      "x_gen.shape: torch.Size([9, 1, 128, 128])\n",
      "x_gen.shape: torch.Size([9, 1, 128, 128])\n",
      "x_gen.shape: torch.Size([9, 1, 128, 128])\n"
     ]
    }
   ],
   "source": [
    "n_transitional_steps = 5\n",
    "visualizing_steps = np.linspace(0, z_gen.shape[1] - 1, n_transitional_steps).astype(int)\n",
    "print('visualizing_steps:', visualizing_steps)\n",
    "\n",
    "for step in visualizing_steps:\n",
    "    z_gen_ = z_gen[:, step]  # (b c h w)\n",
    "    \n",
    "    # apply decoder\n",
    "    x_gen = trainer.pretrained_decoder(z_gen_)  # (b c h w)\n",
    "    x_gen = x_gen.cpu().detach()\n",
    "    x_gen = x_gen.argmax(dim=1)[:,None,:,:].float()\n",
    "    print('x_gen.shape:', x_gen.shape)\n",
    "\n",
    "    fname = get_root_dir().joinpath('methods', 'ldm', 'results', f'.sample_jupyter_transitional_{step}.png')\n",
    "    save_image(X_cond, x_gen, fname, config['dataset']['in_channels'], 0, False)"
   ]
  },
  {
   "cell_type": "markdown",
   "metadata": {},
   "source": [
    "### Conditional sampling given specific $X_{cond}$"
   ]
  },
  {
   "cell_type": "code",
   "execution_count": 56,
   "metadata": {},
   "outputs": [],
   "source": [
    "# settings\n",
    "num_samples = 9"
   ]
  },
  {
   "cell_type": "code",
   "execution_count": 57,
   "metadata": {},
   "outputs": [
    {
     "name": "stderr",
     "output_type": "stream",
     "text": [
      "sampling loop time step: 100%|██████████| 1000/1000 [01:24<00:00, 11.82it/s]\n"
     ]
    }
   ],
   "source": [
    "# z_cond\n",
    "X_cond = []\n",
    "X = []\n",
    "for _ in range(num_samples):\n",
    "    i = np.random.choice(len(trainer.ds))\n",
    "    x, x_cond = trainer.ds.dataset[i]  # (c h w)\n",
    "    X_cond.append(x_cond.numpy())\n",
    "    X.append(x.numpy())\n",
    "X = torch.from_numpy(np.array(X))\n",
    "X_cond = torch.from_numpy(np.array(X_cond))  # (b c h w); b == num_samples\n",
    "z_cond = trainer.pretrained_encoder_cond(X_cond.to(trainer.accelerator.device))  # (b c h' w')\n",
    "\n",
    "# x_cond\n",
    "select_idx = 2\n",
    "x = X[select_idx]\n",
    "x_cond = X_cond[select_idx]\n",
    "\n",
    "# repeat\n",
    "x = repeat(x, 'c h w -> b c h w', b=num_samples)  # (b c h w)\n",
    "x_cond = repeat(x_cond, 'c h w -> b c h w', b=num_samples)  # (b c h w)\n",
    "\n",
    "# z_q_cond\n",
    "x_cond = torch.from_numpy(np.array(x_cond)).float()  # (b c h w); b == num_samples\n",
    "z_cond = trainer.pretrained_encoder_cond(x_cond.to(trainer.accelerator.device))  # (b c h' w')"
   ]
  },
  {
   "cell_type": "code",
   "execution_count": 76,
   "metadata": {},
   "outputs": [
    {
     "data": {
      "image/png": "[encoded data removed]",
      "text/plain": [
       "<Figure size 432x432 with 1 Axes>"
      ]
     },
     "metadata": {
      "needs_background": "light"
     },
     "output_type": "display_data"
    }
   ],
   "source": [
    "# check x_cond\n",
    "cmap = ListedColormap(['C3', 'C2', 'C1', 'C0', '#D3D3D3'])\n",
    "plt.figure(figsize=(6, 6))\n",
    "plt.imshow(x_cond.argmax(axis=1)[0], cmap=cmap, interpolation='nearest')\n",
    "plt.gca().invert_yaxis()\n",
    "plt.show()"
   ]
  },
  {
   "cell_type": "code",
   "execution_count": null,
   "metadata": {},
   "outputs": [],
   "source": [
    "# sample z\n",
    "trainer.ema.ema_model.eval()\n",
    "z_gen = trainer.ema.ema_model.sample(z_cond, batch_size=num_samples)"
   ]
  },
  {
   "cell_type": "code",
   "execution_count": 77,
   "metadata": {},
   "outputs": [
    {
     "name": "stdout",
     "output_type": "stream",
     "text": [
      "x_gen.shape: torch.Size([9, 1, 128, 128])\n"
     ]
    }
   ],
   "source": [
    "# apply decoder\n",
    "x_gen = trainer.pretrained_decoder(z_gen)  # (b c h w)\n",
    "x_gen = x_gen.cpu().detach()\n",
    "x_gen = x_gen.argmax(dim=1)[:,None,:,:].float()\n",
    "print('x_gen.shape:', x_gen.shape)"
   ]
  },
  {
   "cell_type": "code",
   "execution_count": 78,
   "metadata": {},
   "outputs": [],
   "source": [
    "# plot\n",
    "fname = get_root_dir().joinpath('methods', 'ldm', 'results', '.x_c_to_many.png')\n",
    "save_image(x_cond, x_gen, fname, config['dataset']['in_channels'], 0, False)\n",
    "\n",
    "fname = get_root_dir().joinpath('methods', 'ldm', 'results', '.x_of_x_c_to_many.png')\n",
    "save_image(x, x_gen, fname, config['dataset']['in_channels'], 0, False)"
   ]
  },
  {
   "cell_type": "markdown",
   "metadata": {},
   "source": [
    "### Bulk unconditonal sampling "
   ]
  },
  {
   "cell_type": "code",
   "execution_count": null,
   "metadata": {},
   "outputs": [],
   "source": [
    "# sample many and save\n",
    "\n",
    "n_samples = 1000\n",
    "batch_size = 32\n",
    "\n",
    "n_iters = np.ceil(n_samples / batch_size).astype(int)\n",
    "for i in range(n_iters):\n",
    "# for i in [20, 21, 22, 23, 24]:\n",
    "    # sample z\n",
    "    trainer.ema.ema_model.eval()\n",
    "    z_gen = trainer.ema.ema_model.sample(z_cond=None, batch_size=batch_size)  # (b d h' w')\n",
    "    \n",
    "    # apply decoder\n",
    "    x_gen = trainer.pretrained_decoder(z_gen)  # (b c h w)\n",
    "    x_gen = x_gen.cpu().detach()\n",
    "    x_gen = x_gen.argmax(dim=1)[:,None,:,:].float()  # (b 1 h w)\n",
    "    \n",
    "    # save\n",
    "    fname = get_root_dir().joinpath('methods', 'ldm', 'results', 'unconditional_sampling', '(a)', f'x_gen_{i}.npy')\n",
    "    with open(fname, 'wb') as f:\n",
    "        np.save(f, x_gen[:, 0, : ,:])\n",
    "    \n",
    "    # empty cuda memory\n",
    "    torch.cuda.empty_cache()"
   ]
  },
  {
   "cell_type": "code",
   "execution_count": null,
   "metadata": {},
   "outputs": [],
   "source": [
    "del x_gen\n",
    "torch.cuda.empty_cache()"
   ]
  },
  {
   "cell_type": "markdown",
   "metadata": {},
   "source": [
    "### Bulk conditonal sampling "
   ]
  },
  {
   "cell_type": "code",
   "execution_count": null,
   "metadata": {},
   "outputs": [],
   "source": [
    "data_loader = trainer.ds\n",
    "n_samples = len(trainer.ds.dataset)\n",
    "sampling_batch_size = 32\n",
    "print('n_samples:', n_samples)"
   ]
  },
  {
   "cell_type": "code",
   "execution_count": null,
   "metadata": {},
   "outputs": [],
   "source": [
    "X_cond = []\n",
    "n_iters = np.ceil(n_samples / sampling_batch_size).astype(int)\n",
    "for i in range(n_iters):\n",
    "    print(f'{round(i/n_iters * 100)} % ..')\n",
    "    x, x_cond = data_loader[i]  # (c h w)\n",
    "    \n",
    "    # z_cond\n",
    "    x_cond = repeat(x_cond, 'c h w -> b c h w', b=sampling_batch_size)  # (b c h w)\n",
    "    z_cond = trainer.pretrained_encoder_cond(x_cond.to(trainer.accelerator.device))  # (b c h' w')\n",
    "    \n",
    "    # sample z\n",
    "    z_gen = trainer.ema.ema_model.sample(z_cond, batch_size=sampling_batch_size)\n",
    "    \n",
    "    # apply decoder\n",
    "    x_gen = trainer.pretrained_decoder(z_gen)  # (b c h w)\n",
    "    x_gen = x_gen.cpu().detach()\n",
    "#     x_gen = x_gen.argmax(dim=1)[:,None,:,:].float()  # (b 1 h w)\n",
    "    \n",
    "    # save (x, x_cond, x_gen) by pickle\n",
    "    # -1 for specifying the empty facies.\n",
    "    data = {'x': x.numpy(),  # (1 c h w)\n",
    "            'x_cond': x_cond.numpy(),  # (1 c h w)\n",
    "            'x_gen': x_gen.numpy(),  # (b c h w)\n",
    "           }\n",
    "    fname = get_root_dir().joinpath('methods', 'ldm', 'results', 'conditional_sampling', '(a)', f'x_gen_{i}.pkl')\n",
    "    with open(fname, 'wb') as f:\n",
    "        pickle.dump(data, f, pickle.HIGHEST_PROTOCOL)"
   ]
  }
 ],
 "metadata": {
  "kernelspec": {
   "display_name": "geo_ldm",
   "language": "python",
   "name": "python3"
  },
  "language_info": {
   "codemirror_mode": {
    "name": "ipython",
    "version": 3
   },
   "file_extension": ".py",
   "mimetype": "text/x-python",
   "name": "python",
   "nbconvert_exporter": "python",
   "pygments_lexer": "ipython3",
   "version": "3.8.17"
  }
 },
 "nbformat": 4,
 "nbformat_minor": 2
}
